{
 "cells": [
  {
   "cell_type": "code",
   "execution_count": 1,
   "id": "912f9277",
   "metadata": {
    "_cell_guid": "b1076dfc-b9ad-4769-8c92-a6c4dae69d19",
    "_uuid": "8f2839f25d086af736a60e9eeb907d3b93b6e0e5",
    "execution": {
     "iopub.execute_input": "2025-04-25T16:05:26.034811Z",
     "iopub.status.busy": "2025-04-25T16:05:26.034583Z",
     "iopub.status.idle": "2025-04-25T17:23:55.789592Z",
     "shell.execute_reply": "2025-04-25T17:23:55.788838Z"
    },
    "papermill": {
     "duration": 4709.759219,
     "end_time": "2025-04-25T17:23:55.790748",
     "exception": false,
     "start_time": "2025-04-25T16:05:26.031529",
     "status": "completed"
    },
    "tags": []
   },
   "outputs": [
    {
     "name": "stderr",
     "output_type": "stream",
     "text": [
      "Downloading: \"https://download.pytorch.org/models/swin_b-68c6b09e.pth\" to /root/.cache/torch/hub/checkpoints/swin_b-68c6b09e.pth\n",
      "100%|██████████| 335M/335M [00:01<00:00, 238MB/s]\n"
     ]
    },
    {
     "name": "stdout",
     "output_type": "stream",
     "text": [
      "\n",
      "Epoch 1/30\n"
     ]
    },
    {
     "name": "stderr",
     "output_type": "stream",
     "text": [
      "Training: 100%|██████████| 312/312 [02:28<00:00,  2.11it/s]\n",
      "Validating: 100%|██████████| 39/39 [00:09<00:00,  4.26it/s]\n"
     ]
    },
    {
     "name": "stdout",
     "output_type": "stream",
     "text": [
      "✅ Saved new best model with val_acc: 0.8762\n",
      "Train Loss: 0.6811 | Acc: 0.7388\n",
      "Val Loss: 0.3223 | Acc: 0.8762\n",
      "Epoch Time: 157.66 seconds\n",
      "\n",
      "Epoch 2/30\n"
     ]
    },
    {
     "name": "stderr",
     "output_type": "stream",
     "text": [
      "Training: 100%|██████████| 312/312 [02:26<00:00,  2.13it/s]\n",
      "Validating: 100%|██████████| 39/39 [00:08<00:00,  4.52it/s]\n"
     ]
    },
    {
     "name": "stdout",
     "output_type": "stream",
     "text": [
      "✅ Saved new best model with val_acc: 0.9260\n",
      "Train Loss: 0.3890 | Acc: 0.8590\n",
      "Val Loss: 0.1929 | Acc: 0.9260\n",
      "Epoch Time: 156.04 seconds\n",
      "\n",
      "Epoch 3/30\n"
     ]
    },
    {
     "name": "stderr",
     "output_type": "stream",
     "text": [
      "Training: 100%|██████████| 312/312 [02:26<00:00,  2.13it/s]\n",
      "Validating: 100%|██████████| 39/39 [00:08<00:00,  4.52it/s]\n"
     ]
    },
    {
     "name": "stdout",
     "output_type": "stream",
     "text": [
      "✅ Saved new best model with val_acc: 0.9558\n",
      "Train Loss: 0.2976 | Acc: 0.8881\n",
      "Val Loss: 0.1349 | Acc: 0.9558\n",
      "Epoch Time: 156.06 seconds\n",
      "\n",
      "Epoch 4/30\n"
     ]
    },
    {
     "name": "stderr",
     "output_type": "stream",
     "text": [
      "Training: 100%|██████████| 312/312 [02:26<00:00,  2.13it/s]\n",
      "Validating: 100%|██████████| 39/39 [00:08<00:00,  4.50it/s]\n"
     ]
    },
    {
     "name": "stdout",
     "output_type": "stream",
     "text": [
      "✅ Saved new best model with val_acc: 0.9590\n",
      "Train Loss: 0.2360 | Acc: 0.9125\n",
      "Val Loss: 0.1104 | Acc: 0.9590\n",
      "Epoch Time: 156.14 seconds\n",
      "\n",
      "Epoch 5/30\n"
     ]
    },
    {
     "name": "stderr",
     "output_type": "stream",
     "text": [
      "Training: 100%|██████████| 312/312 [02:26<00:00,  2.13it/s]\n",
      "Validating: 100%|██████████| 39/39 [00:08<00:00,  4.51it/s]\n"
     ]
    },
    {
     "name": "stdout",
     "output_type": "stream",
     "text": [
      "✅ Saved new best model with val_acc: 0.9703\n",
      "Train Loss: 0.2061 | Acc: 0.9261\n",
      "Val Loss: 0.0908 | Acc: 0.9703\n",
      "Epoch Time: 156.05 seconds\n",
      "\n",
      "Epoch 6/30\n"
     ]
    },
    {
     "name": "stderr",
     "output_type": "stream",
     "text": [
      "Training: 100%|██████████| 312/312 [02:26<00:00,  2.13it/s]\n",
      "Validating: 100%|██████████| 39/39 [00:08<00:00,  4.50it/s]\n"
     ]
    },
    {
     "name": "stdout",
     "output_type": "stream",
     "text": [
      "✅ Saved new best model with val_acc: 0.9727\n",
      "Train Loss: 0.1842 | Acc: 0.9307\n",
      "Val Loss: 0.0761 | Acc: 0.9727\n",
      "Epoch Time: 156.10 seconds\n",
      "\n",
      "Epoch 7/30\n"
     ]
    },
    {
     "name": "stderr",
     "output_type": "stream",
     "text": [
      "Training: 100%|██████████| 312/312 [02:26<00:00,  2.13it/s]\n",
      "Validating: 100%|██████████| 39/39 [00:08<00:00,  4.52it/s]\n"
     ]
    },
    {
     "name": "stdout",
     "output_type": "stream",
     "text": [
      "✅ Saved new best model with val_acc: 0.9791\n",
      "Train Loss: 0.1593 | Acc: 0.9415\n",
      "Val Loss: 0.0634 | Acc: 0.9791\n",
      "Epoch Time: 156.07 seconds\n",
      "\n",
      "Epoch 8/30\n"
     ]
    },
    {
     "name": "stderr",
     "output_type": "stream",
     "text": [
      "Training: 100%|██████████| 312/312 [02:26<00:00,  2.13it/s]\n",
      "Validating: 100%|██████████| 39/39 [00:08<00:00,  4.52it/s]\n"
     ]
    },
    {
     "name": "stdout",
     "output_type": "stream",
     "text": [
      "✅ Saved new best model with val_acc: 0.9807\n",
      "Train Loss: 0.1464 | Acc: 0.9470\n",
      "Val Loss: 0.0516 | Acc: 0.9807\n",
      "Epoch Time: 156.03 seconds\n",
      "\n",
      "Epoch 9/30\n"
     ]
    },
    {
     "name": "stderr",
     "output_type": "stream",
     "text": [
      "Training: 100%|██████████| 312/312 [02:26<00:00,  2.13it/s]\n",
      "Validating: 100%|██████████| 39/39 [00:08<00:00,  4.48it/s]\n"
     ]
    },
    {
     "name": "stdout",
     "output_type": "stream",
     "text": [
      "Train Loss: 0.1299 | Acc: 0.9517\n",
      "Val Loss: 0.0627 | Acc: 0.9727\n",
      "Epoch Time: 155.31 seconds\n",
      "\n",
      "Epoch 10/30\n"
     ]
    },
    {
     "name": "stderr",
     "output_type": "stream",
     "text": [
      "Training: 100%|██████████| 312/312 [02:26<00:00,  2.13it/s]\n",
      "Validating: 100%|██████████| 39/39 [00:08<00:00,  4.51it/s]\n"
     ]
    },
    {
     "name": "stdout",
     "output_type": "stream",
     "text": [
      "Train Loss: 0.1190 | Acc: 0.9558\n",
      "Val Loss: 0.0550 | Acc: 0.9799\n",
      "Epoch Time: 155.23 seconds\n",
      "\n",
      "Epoch 11/30\n"
     ]
    },
    {
     "name": "stderr",
     "output_type": "stream",
     "text": [
      "Training: 100%|██████████| 312/312 [02:26<00:00,  2.13it/s]\n",
      "Validating: 100%|██████████| 39/39 [00:08<00:00,  4.50it/s]\n"
     ]
    },
    {
     "name": "stdout",
     "output_type": "stream",
     "text": [
      "✅ Saved new best model with val_acc: 0.9847\n",
      "Train Loss: 0.1089 | Acc: 0.9618\n",
      "Val Loss: 0.0399 | Acc: 0.9847\n",
      "Epoch Time: 156.14 seconds\n",
      "\n",
      "Epoch 12/30\n"
     ]
    },
    {
     "name": "stderr",
     "output_type": "stream",
     "text": [
      "Training: 100%|██████████| 312/312 [02:26<00:00,  2.13it/s]\n",
      "Validating: 100%|██████████| 39/39 [00:08<00:00,  4.51it/s]\n"
     ]
    },
    {
     "name": "stdout",
     "output_type": "stream",
     "text": [
      "✅ Saved new best model with val_acc: 0.9895\n",
      "Train Loss: 0.0968 | Acc: 0.9642\n",
      "Val Loss: 0.0296 | Acc: 0.9895\n",
      "Epoch Time: 156.10 seconds\n",
      "\n",
      "Epoch 13/30\n"
     ]
    },
    {
     "name": "stderr",
     "output_type": "stream",
     "text": [
      "Training: 100%|██████████| 312/312 [02:26<00:00,  2.13it/s]\n",
      "Validating: 100%|██████████| 39/39 [00:08<00:00,  4.51it/s]\n"
     ]
    },
    {
     "name": "stdout",
     "output_type": "stream",
     "text": [
      "Train Loss: 0.0931 | Acc: 0.9666\n",
      "Val Loss: 0.0424 | Acc: 0.9855\n",
      "Epoch Time: 155.31 seconds\n",
      "\n",
      "Epoch 14/30\n"
     ]
    },
    {
     "name": "stderr",
     "output_type": "stream",
     "text": [
      "Training: 100%|██████████| 312/312 [02:26<00:00,  2.13it/s]\n",
      "Validating: 100%|██████████| 39/39 [00:08<00:00,  4.51it/s]\n"
     ]
    },
    {
     "name": "stdout",
     "output_type": "stream",
     "text": [
      "✅ Saved new best model with val_acc: 0.9944\n",
      "Train Loss: 0.0899 | Acc: 0.9673\n",
      "Val Loss: 0.0224 | Acc: 0.9944\n",
      "Epoch Time: 156.07 seconds\n",
      "\n",
      "Epoch 15/30\n"
     ]
    },
    {
     "name": "stderr",
     "output_type": "stream",
     "text": [
      "Training: 100%|██████████| 312/312 [02:26<00:00,  2.13it/s]\n",
      "Validating: 100%|██████████| 39/39 [00:08<00:00,  4.52it/s]\n"
     ]
    },
    {
     "name": "stdout",
     "output_type": "stream",
     "text": [
      "Train Loss: 0.0787 | Acc: 0.9712\n",
      "Val Loss: 0.0164 | Acc: 0.9944\n",
      "Epoch Time: 155.24 seconds\n",
      "\n",
      "Epoch 16/30\n"
     ]
    },
    {
     "name": "stderr",
     "output_type": "stream",
     "text": [
      "Training: 100%|██████████| 312/312 [02:26<00:00,  2.13it/s]\n",
      "Validating: 100%|██████████| 39/39 [00:08<00:00,  4.52it/s]\n"
     ]
    },
    {
     "name": "stdout",
     "output_type": "stream",
     "text": [
      "Train Loss: 0.0692 | Acc: 0.9751\n",
      "Val Loss: 0.0192 | Acc: 0.9928\n",
      "Epoch Time: 155.26 seconds\n",
      "\n",
      "Epoch 17/30\n"
     ]
    },
    {
     "name": "stderr",
     "output_type": "stream",
     "text": [
      "Training: 100%|██████████| 312/312 [02:26<00:00,  2.13it/s]\n",
      "Validating: 100%|██████████| 39/39 [00:08<00:00,  4.52it/s]\n"
     ]
    },
    {
     "name": "stdout",
     "output_type": "stream",
     "text": [
      "Train Loss: 0.0630 | Acc: 0.9784\n",
      "Val Loss: 0.0204 | Acc: 0.9912\n",
      "Epoch Time: 155.29 seconds\n",
      "\n",
      "Epoch 18/30\n"
     ]
    },
    {
     "name": "stderr",
     "output_type": "stream",
     "text": [
      "Training: 100%|██████████| 312/312 [02:26<00:00,  2.13it/s]\n",
      "Validating: 100%|██████████| 39/39 [00:08<00:00,  4.51it/s]\n"
     ]
    },
    {
     "name": "stdout",
     "output_type": "stream",
     "text": [
      "Train Loss: 0.0642 | Acc: 0.9769\n",
      "Val Loss: 0.0134 | Acc: 0.9944\n",
      "Epoch Time: 155.27 seconds\n",
      "\n",
      "Epoch 19/30\n"
     ]
    },
    {
     "name": "stderr",
     "output_type": "stream",
     "text": [
      "Training: 100%|██████████| 312/312 [02:26<00:00,  2.13it/s]\n",
      "Validating: 100%|██████████| 39/39 [00:08<00:00,  4.51it/s]\n"
     ]
    },
    {
     "name": "stdout",
     "output_type": "stream",
     "text": [
      "✅ Saved new best model with val_acc: 0.9968\n",
      "Train Loss: 0.0600 | Acc: 0.9791\n",
      "Val Loss: 0.0109 | Acc: 0.9968\n",
      "Epoch Time: 156.13 seconds\n",
      "\n",
      "Epoch 20/30\n"
     ]
    },
    {
     "name": "stderr",
     "output_type": "stream",
     "text": [
      "Training: 100%|██████████| 312/312 [02:26<00:00,  2.13it/s]\n",
      "Validating: 100%|██████████| 39/39 [00:08<00:00,  4.52it/s]\n"
     ]
    },
    {
     "name": "stdout",
     "output_type": "stream",
     "text": [
      "Train Loss: 0.0612 | Acc: 0.9792\n",
      "Val Loss: 0.0156 | Acc: 0.9936\n",
      "Epoch Time: 155.28 seconds\n",
      "\n",
      "Epoch 21/30\n"
     ]
    },
    {
     "name": "stderr",
     "output_type": "stream",
     "text": [
      "Training: 100%|██████████| 312/312 [02:26<00:00,  2.13it/s]\n",
      "Validating: 100%|██████████| 39/39 [00:08<00:00,  4.51it/s]\n"
     ]
    },
    {
     "name": "stdout",
     "output_type": "stream",
     "text": [
      "Train Loss: 0.0551 | Acc: 0.9826\n",
      "Val Loss: 0.0099 | Acc: 0.9960\n",
      "Epoch Time: 155.29 seconds\n",
      "\n",
      "Epoch 22/30\n"
     ]
    },
    {
     "name": "stderr",
     "output_type": "stream",
     "text": [
      "Training: 100%|██████████| 312/312 [02:26<00:00,  2.13it/s]\n",
      "Validating: 100%|██████████| 39/39 [00:08<00:00,  4.46it/s]\n"
     ]
    },
    {
     "name": "stdout",
     "output_type": "stream",
     "text": [
      "Train Loss: 0.0540 | Acc: 0.9813\n",
      "Val Loss: 0.0101 | Acc: 0.9968\n",
      "Epoch Time: 155.37 seconds\n",
      "\n",
      "Epoch 23/30\n"
     ]
    },
    {
     "name": "stderr",
     "output_type": "stream",
     "text": [
      "Training: 100%|██████████| 312/312 [02:26<00:00,  2.13it/s]\n",
      "Validating: 100%|██████████| 39/39 [00:08<00:00,  4.50it/s]\n"
     ]
    },
    {
     "name": "stdout",
     "output_type": "stream",
     "text": [
      "Train Loss: 0.0468 | Acc: 0.9837\n",
      "Val Loss: 0.0119 | Acc: 0.9960\n",
      "Epoch Time: 155.34 seconds\n",
      "\n",
      "Epoch 24/30\n"
     ]
    },
    {
     "name": "stderr",
     "output_type": "stream",
     "text": [
      "Training: 100%|██████████| 312/312 [02:26<00:00,  2.13it/s]\n",
      "Validating: 100%|██████████| 39/39 [00:08<00:00,  4.51it/s]\n"
     ]
    },
    {
     "name": "stdout",
     "output_type": "stream",
     "text": [
      "✅ Saved new best model with val_acc: 0.9976\n",
      "Train Loss: 0.0439 | Acc: 0.9842\n",
      "Val Loss: 0.0064 | Acc: 0.9976\n",
      "Epoch Time: 156.11 seconds\n",
      "\n",
      "Epoch 25/30\n"
     ]
    },
    {
     "name": "stderr",
     "output_type": "stream",
     "text": [
      "Training: 100%|██████████| 312/312 [02:26<00:00,  2.13it/s]\n",
      "Validating: 100%|██████████| 39/39 [00:08<00:00,  4.51it/s]\n"
     ]
    },
    {
     "name": "stdout",
     "output_type": "stream",
     "text": [
      "Train Loss: 0.0479 | Acc: 0.9839\n",
      "Val Loss: 0.0109 | Acc: 0.9944\n",
      "Epoch Time: 155.29 seconds\n",
      "\n",
      "Epoch 26/30\n"
     ]
    },
    {
     "name": "stderr",
     "output_type": "stream",
     "text": [
      "Training: 100%|██████████| 312/312 [02:26<00:00,  2.13it/s]\n",
      "Validating: 100%|██████████| 39/39 [00:08<00:00,  4.51it/s]\n"
     ]
    },
    {
     "name": "stdout",
     "output_type": "stream",
     "text": [
      "✅ Saved new best model with val_acc: 0.9984\n",
      "Train Loss: 0.0384 | Acc: 0.9865\n",
      "Val Loss: 0.0041 | Acc: 0.9984\n",
      "Epoch Time: 156.11 seconds\n",
      "\n",
      "Epoch 27/30\n"
     ]
    },
    {
     "name": "stderr",
     "output_type": "stream",
     "text": [
      "Training: 100%|██████████| 312/312 [02:26<00:00,  2.13it/s]\n",
      "Validating: 100%|██████████| 39/39 [00:08<00:00,  4.49it/s]\n"
     ]
    },
    {
     "name": "stdout",
     "output_type": "stream",
     "text": [
      "Train Loss: 0.0373 | Acc: 0.9876\n",
      "Val Loss: 0.0097 | Acc: 0.9960\n",
      "Epoch Time: 155.46 seconds\n",
      "\n",
      "Epoch 28/30\n"
     ]
    },
    {
     "name": "stderr",
     "output_type": "stream",
     "text": [
      "Training: 100%|██████████| 312/312 [02:26<00:00,  2.13it/s]\n",
      "Validating: 100%|██████████| 39/39 [00:08<00:00,  4.49it/s]\n"
     ]
    },
    {
     "name": "stdout",
     "output_type": "stream",
     "text": [
      "Train Loss: 0.0395 | Acc: 0.9851\n",
      "Val Loss: 0.0143 | Acc: 0.9944\n",
      "Epoch Time: 155.33 seconds\n",
      "\n",
      "Epoch 29/30\n"
     ]
    },
    {
     "name": "stderr",
     "output_type": "stream",
     "text": [
      "Training: 100%|██████████| 312/312 [02:26<00:00,  2.13it/s]\n",
      "Validating: 100%|██████████| 39/39 [00:08<00:00,  4.52it/s]\n"
     ]
    },
    {
     "name": "stdout",
     "output_type": "stream",
     "text": [
      "Train Loss: 0.0335 | Acc: 0.9890\n",
      "Val Loss: 0.0051 | Acc: 0.9984\n",
      "Epoch Time: 155.28 seconds\n",
      "\n",
      "Epoch 30/30\n"
     ]
    },
    {
     "name": "stderr",
     "output_type": "stream",
     "text": [
      "Training: 100%|██████████| 312/312 [02:26<00:00,  2.13it/s]\n",
      "Validating: 100%|██████████| 39/39 [00:08<00:00,  4.52it/s]\n"
     ]
    },
    {
     "name": "stdout",
     "output_type": "stream",
     "text": [
      "✅ Saved new best model with val_acc: 1.0000\n",
      "Train Loss: 0.0338 | Acc: 0.9880\n",
      "Val Loss: 0.0026 | Acc: 1.0000\n",
      "Epoch Time: 156.10 seconds\n",
      "\n",
      "⏱️ Total Training Time: 77.87 minutes\n"
     ]
    },
    {
     "data": {
      "image/png": "[encoded data removed]",
      "text/plain": [
       "<Figure size 1200x500 with 2 Axes>"
      ]
     },
     "metadata": {},
     "output_type": "display_data"
    },
    {
     "name": "stderr",
     "output_type": "stream",
     "text": [
      "/tmp/ipykernel_19/2788604389.py:174: FutureWarning: You are using `torch.load` with `weights_only=False` (the current default value), which uses the default pickle module implicitly. It is possible to construct malicious pickle data which will execute arbitrary code during unpickling (See https://github.com/pytorch/pytorch/blob/main/SECURITY.md#untrusted-models for more details). In a future release, the default value for `weights_only` will be flipped to `True`. This limits the functions that could be executed during unpickling. Arbitrary objects will no longer be allowed to be loaded via this mode unless they are explicitly allowlisted by the user via `torch.serialization.add_safe_globals`. We recommend you start setting `weights_only=True` for any use case where you don't have full control of the loaded file. Please open an issue on GitHub for any issues related to this experimental feature.\n",
      "  model.load_state_dict(T.load(os.path.join(config.save_dir, config.save_name)))\n",
      "Testing: 100%|██████████| 39/39 [00:11<00:00,  3.42it/s]\n"
     ]
    },
    {
     "name": "stdout",
     "output_type": "stream",
     "text": [
      "\n",
      "🎯 Final Test Accuracy: 0.9984\n"
     ]
    },
    {
     "data": {
      "image/png": "[encoded data removed]",
      "text/plain": [
       "<Figure size 640x480 with 2 Axes>"
      ]
     },
     "metadata": {},
     "output_type": "display_data"
    },
    {
     "name": "stdout",
     "output_type": "stream",
     "text": [
      "\n",
      "📋 Classification Report:\n",
      "               precision    recall  f1-score   support\n",
      "\n",
      "        Cyst       0.99      1.00      1.00       387\n",
      "      Normal       1.00      1.00      1.00       477\n",
      "       Stone       1.00      0.99      0.99       147\n",
      "       Tumor       1.00      1.00      1.00       235\n",
      "\n",
      "    accuracy                           1.00      1246\n",
      "   macro avg       1.00      1.00      1.00      1246\n",
      "weighted avg       1.00      1.00      1.00      1246\n",
      "\n"
     ]
    }
   ],
   "source": [
    "import os\n",
    "import time\n",
    "import torch as T\n",
    "import torch.nn as nn\n",
    "import torchvision\n",
    "from torchvision import models, transforms\n",
    "from torch.utils.data import DataLoader, random_split\n",
    "from tqdm import tqdm\n",
    "import matplotlib.pyplot as plt\n",
    "from sklearn.metrics import confusion_matrix, ConfusionMatrixDisplay, classification_report\n",
    "import numpy as np\n",
    "\n",
    "# ------------------------ Configuration ------------------------\n",
    "class Config:\n",
    "    device = T.device(\"cuda\" if T.cuda.is_available() else \"cpu\")\n",
    "    num_workers = 2\n",
    "    model_name = \"swin_base\"\n",
    "    pretrained = True\n",
    "    num_classes = 4\n",
    "    image_size = 224\n",
    "    batch_size = 32\n",
    "    epochs = 30\n",
    "    lr = 1e-4\n",
    "    patience = 5\n",
    "    data_dir = \"/kaggle/input/ct-kidney-dataset-normal-cyst-tumor-and-stone/CT-KIDNEY-DATASET-Normal-Cyst-Tumor-Stone/CT-KIDNEY-DATASET-Normal-Cyst-Tumor-Stone\"\n",
    "    save_dir = \"/kaggle/working/\"\n",
    "    save_name = f\"swin_base_kidney_ct.pth\"\n",
    "    mean = [0.485, 0.456, 0.406]\n",
    "    std = [0.229, 0.224, 0.225]\n",
    "\n",
    "config = Config()\n",
    "\n",
    "# ------------------------ Transforms & Data ------------------------\n",
    "train_transforms = transforms.Compose([\n",
    "    transforms.Resize((config.image_size, config.image_size)),\n",
    "    transforms.RandomHorizontalFlip(),\n",
    "    transforms.RandomRotation(15),\n",
    "    transforms.ToTensor(),\n",
    "    transforms.Normalize(config.mean, config.std)\n",
    "])\n",
    "val_transforms = transforms.Compose([\n",
    "    transforms.Resize((config.image_size, config.image_size)),\n",
    "    transforms.ToTensor(),\n",
    "    transforms.Normalize(config.mean, config.std)\n",
    "])\n",
    "dataset = torchvision.datasets.ImageFolder(config.data_dir, transform=train_transforms)\n",
    "\n",
    "train_size = int(0.8 * len(dataset))\n",
    "val_size = int(0.1 * len(dataset))\n",
    "test_size = len(dataset) - train_size - val_size\n",
    "train_set, val_set, test_set = random_split(dataset, [train_size, val_size, test_size])\n",
    "\n",
    "train_loader = DataLoader(train_set, batch_size=config.batch_size, shuffle=True, num_workers=config.num_workers, pin_memory=True)\n",
    "val_loader = DataLoader(val_set, batch_size=config.batch_size, shuffle=False, num_workers=config.num_workers, pin_memory=True)\n",
    "test_loader = DataLoader(test_set, batch_size=config.batch_size, shuffle=False, num_workers=config.num_workers, pin_memory=True)\n",
    "\n",
    "# ------------------------ Model ------------------------\n",
    "class KidneyCTSwin(nn.Module):\n",
    "    def __init__(self):\n",
    "        super().__init__()\n",
    "        if config.model_name == \"swin_base\":\n",
    "            self.swin = models.swin_b(weights=models.Swin_B_Weights.DEFAULT)\n",
    "        else:\n",
    "            raise ValueError(f\"Model {config.model_name} not supported.\")\n",
    "        for param in self.swin.parameters():\n",
    "            param.requires_grad = False\n",
    "        for name, param in self.swin.named_parameters():\n",
    "            if \"layers.2\" in name or \"layers.3\" in name or \"norm\" in name or \"head\" in name:\n",
    "                param.requires_grad = True\n",
    "        in_features = self.swin.head.in_features\n",
    "        self.swin.head = nn.Sequential(\n",
    "            nn.Linear(in_features, 512),\n",
    "            nn.GELU(),\n",
    "            nn.Dropout(0.5),\n",
    "            nn.LayerNorm(512),\n",
    "            nn.Linear(512, config.num_classes)\n",
    "        )\n",
    "    def forward(self, x):\n",
    "        return self.swin(x)\n",
    "\n",
    "# ------------------------ Training ------------------------\n",
    "def setup_training():\n",
    "    model = KidneyCTSwin().to(config.device)\n",
    "    criterion = nn.CrossEntropyLoss()\n",
    "    optimizer = T.optim.AdamW(filter(lambda p: p.requires_grad, model.parameters()), lr=config.lr, weight_decay=1e-4)\n",
    "    scaler = T.amp.GradScaler(\"cuda\")\n",
    "    return model, criterion, optimizer, scaler\n",
    "\n",
    "def train_model():\n",
    "    model, criterion, optimizer, scaler = setup_training()\n",
    "    best_acc = 0.0\n",
    "    history = {'train_loss': [], 'train_acc': [], 'val_loss': [], 'val_acc': []}\n",
    "    total_start = time.time()\n",
    "\n",
    "    for epoch in range(config.epochs):\n",
    "        print(f\"\\nEpoch {epoch+1}/{config.epochs}\")\n",
    "        start_time = time.time()\n",
    "\n",
    "        model.train()\n",
    "        train_loss, train_correct = 0.0, 0\n",
    "        for images, labels in tqdm(train_loader, desc=\"Training\"):\n",
    "            images, labels = images.to(config.device), labels.to(config.device)\n",
    "\n",
    "            with T.amp.autocast(\"cuda\"):\n",
    "                outputs = model(images)\n",
    "                loss = criterion(outputs, labels)\n",
    "\n",
    "            scaler.scale(loss).backward()\n",
    "            scaler.step(optimizer)\n",
    "            scaler.update()\n",
    "            optimizer.zero_grad()\n",
    "\n",
    "            train_loss += loss.item() * images.size(0)\n",
    "            train_correct += (outputs.argmax(1) == labels).sum().item()\n",
    "\n",
    "        model.eval()\n",
    "        val_loss, val_correct = 0.0, 0\n",
    "        with T.no_grad():\n",
    "            for images, labels in tqdm(val_loader, desc=\"Validating\"):\n",
    "                images, labels = images.to(config.device), labels.to(config.device)\n",
    "                outputs = model(images)\n",
    "                loss = criterion(outputs, labels)\n",
    "                val_loss += loss.item() * images.size(0)\n",
    "                val_correct += (outputs.argmax(1) == labels).sum().item()\n",
    "\n",
    "        train_loss /= len(train_loader.dataset)\n",
    "        train_acc = train_correct / len(train_loader.dataset)\n",
    "        val_loss /= len(val_loader.dataset)\n",
    "        val_acc = val_correct / len(val_loader.dataset)\n",
    "\n",
    "        history['train_loss'].append(train_loss)\n",
    "        history['train_acc'].append(train_acc)\n",
    "        history['val_loss'].append(val_loss)\n",
    "        history['val_acc'].append(val_acc)\n",
    "\n",
    "        if val_acc > best_acc:\n",
    "            best_acc = val_acc\n",
    "            T.save(model.state_dict(), os.path.join(config.save_dir, config.save_name))\n",
    "            print(f\"✅ Saved new best model with val_acc: {val_acc:.4f}\")\n",
    "\n",
    "        print(f\"Train Loss: {train_loss:.4f} | Acc: {train_acc:.4f}\")\n",
    "        print(f\"Val Loss: {val_loss:.4f} | Acc: {val_acc:.4f}\")\n",
    "        print(f\"Epoch Time: {time.time() - start_time:.2f} seconds\")\n",
    "\n",
    "    print(f\"\\n⏱️ Total Training Time: {(time.time() - total_start)/60:.2f} minutes\")\n",
    "    return history, model\n",
    "\n",
    "# ------------------------ Visualization ------------------------\n",
    "def plot_metrics(history):\n",
    "    epochs = range(1, len(history['train_acc']) + 1)\n",
    "    plt.figure(figsize=(12, 5))\n",
    "\n",
    "    plt.subplot(1, 2, 1)\n",
    "    plt.plot(epochs, history['train_acc'], label='Train Acc')\n",
    "    plt.plot(epochs, history['val_acc'], label='Val Acc')\n",
    "    plt.title(\"Accuracy over Epochs\")\n",
    "    plt.xlabel(\"Epoch\")\n",
    "    plt.ylabel(\"Accuracy\")\n",
    "    plt.legend()\n",
    "\n",
    "    plt.subplot(1, 2, 2)\n",
    "    plt.plot(epochs, history['train_loss'], label='Train Loss')\n",
    "    plt.plot(epochs, history['val_loss'], label='Val Loss')\n",
    "    plt.title(\"Loss over Epochs\")\n",
    "    plt.xlabel(\"Epoch\")\n",
    "    plt.ylabel(\"Loss\")\n",
    "    plt.legend()\n",
    "\n",
    "    plt.tight_layout()\n",
    "    plt.savefig(os.path.join(config.save_dir, \"metrics_plot.png\"))\n",
    "    plt.show()\n",
    "\n",
    "def evaluate_model(model):\n",
    "    model.load_state_dict(T.load(os.path.join(config.save_dir, config.save_name)))\n",
    "    model.eval()\n",
    "    all_preds, all_labels = [], []\n",
    "\n",
    "    with T.no_grad():\n",
    "        for images, labels in tqdm(test_loader, desc=\"Testing\"):\n",
    "            images = images.to(config.device)\n",
    "            outputs = model(images)\n",
    "            preds = outputs.argmax(1).cpu().numpy()\n",
    "            all_preds.extend(preds)\n",
    "            all_labels.extend(labels.numpy())\n",
    "\n",
    "    # Accuracy\n",
    "    test_acc = np.mean(np.array(all_preds) == np.array(all_labels))\n",
    "    print(f\"\\n🎯 Final Test Accuracy: {test_acc:.4f}\")\n",
    "\n",
    "    # Confusion Matrix\n",
    "    cm = confusion_matrix(all_labels, all_preds)\n",
    "    disp = ConfusionMatrixDisplay(confusion_matrix=cm, display_labels=dataset.classes)\n",
    "    disp.plot(cmap=plt.cm.Blues)\n",
    "    plt.title(\"Confusion Matrix\")\n",
    "    plt.savefig(os.path.join(config.save_dir, \"confusion_matrix.png\"))\n",
    "    plt.show()\n",
    "\n",
    "    # Classification Report\n",
    "    report = classification_report(all_labels, all_preds, target_names=dataset.classes)\n",
    "    print(\"\\n📋 Classification Report:\\n\", report)\n",
    "    with open(os.path.join(config.save_dir, \"classification_report.txt\"), \"w\") as f:\n",
    "        f.write(report)\n",
    "\n",
    "# ------------------------ Main ------------------------\n",
    "if __name__ == \"__main__\":\n",
    "    os.makedirs(config.save_dir, exist_ok=True)\n",
    "    history, model = train_model()\n",
    "    plot_metrics(history)\n",
    "    evaluate_model(model)\n",
    "    T.save(history, os.path.join(config.save_dir, \"training_history.pt\"))\n"
   ]
  }
 ],
 "metadata": {
  "kaggle": {
   "accelerator": "gpu",
   "dataSources": [
    {
     "datasetId": 1686903,
     "sourceId": 2764486,
     "sourceType": "datasetVersion"
    }
   ],
   "dockerImageVersionId": 31011,
   "isGpuEnabled": true,
   "isInternetEnabled": true,
   "language": "python",
   "sourceType": "notebook"
  },
  "kernelspec": {
   "display_name": "Python 3",
   "language": "python",
   "name": "python3"
  },
  "language_info": {
   "codemirror_mode": {
    "name": "ipython",
    "version": 3
   },
   "file_extension": ".py",
   "mimetype": "text/x-python",
   "name": "python",
   "nbconvert_exporter": "python",
   "pygments_lexer": "ipython3",
   "version": "3.11.11"
  },
  "papermill": {
   "default_parameters": {},
   "duration": 4717.901766,
   "end_time": "2025-04-25T17:23:59.752629",
   "environment_variables": {},
   "exception": null,
   "input_path": "__notebook__.ipynb",
   "output_path": "__notebook__.ipynb",
   "parameters": {},
   "start_time": "2025-04-25T16:05:21.850863",
   "version": "2.6.0"
  }
 },
 "nbformat": 4,
 "nbformat_minor": 5
}
